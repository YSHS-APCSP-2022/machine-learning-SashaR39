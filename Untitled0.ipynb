{
  "nbformat": 4,
  "nbformat_minor": 0,
  "metadata": {
    "colab": {
      "provenance": [],
      "authorship_tag": "ABX9TyMg7S6eB9hgGFC+Wy32jHG0",
      "include_colab_link": true
    },
    "kernelspec": {
      "name": "python3",
      "display_name": "Python 3"
    },
    "language_info": {
      "name": "python"
    }
  },
  "cells": [
    {
      "cell_type": "markdown",
      "metadata": {
        "id": "view-in-github",
        "colab_type": "text"
      },
      "source": [
        "<a href=\"https://colab.research.google.com/github/YSHS-APCSP-2022/machine-learning-SashaR39/blob/main/Untitled0.ipynb\" target=\"_parent\"><img src=\"https://colab.research.google.com/assets/colab-badge.svg\" alt=\"Open In Colab\"/></a>"
      ]
    },
    {
      "cell_type": "code",
      "execution_count": 5,
      "metadata": {
        "colab": {
          "base_uri": "https://localhost:8080/"
        },
        "id": "EAHNUIiVtWhd",
        "outputId": "de247d59-e2fb-4d63-bbca-abbdeb1a5e2a"
      },
      "outputs": [
        {
          "output_type": "stream",
          "name": "stdout",
          "text": [
            "Enter the year (YYYY) to retrieve the gas price: 2003\n",
            "Failed to retrieve gas price from the EIA API.\n"
          ]
        }
      ],
      "source": [
        "import requests\n",
        "\n",
        "def retrieve_gas_price_from_eia(year):\n",
        "    api_key = 'MHLVQSacTUNOGvIDvqCLLph989nIivgdP9Djiyz8'  # Replace with your EIA API key\n",
        "    series_id = 'PET.EMM_EPM0_PTE_NUS_DPG.W'  # Series ID for weekly gas prices\n",
        "    base_url = 'https://api.eia.gov/v2/natural-gas/pri/rescom/data/?'\n",
        "    \n",
        "\n",
        "    # Make a request to the EIA API to retrieve the gas price data for the specified year\n",
        "    url = f'{base_url}?api_key={api_key}&series_id={series_id}&start=01-01-{year}&end=12-31-{year}'\n",
        "    response = requests.get(url)\n",
        "\n",
        "    if response.status_code == 200:\n",
        "        data = response.json()\n",
        "        # Extract the gas price from the API response (assuming it's in the first data point)\n",
        "        gas_price = data['series'][0]['data'][0][1]\n",
        "        return gas_price\n",
        "    else:\n",
        "        print('Failed to retrieve gas price from the EIA API.')\n",
        "        return None\n",
        "\n",
        "# Main program\n",
        "year = int(input('Enter the year (YYYY) to retrieve the gas price: '))\n",
        "\n",
        "gas_price = retrieve_gas_price_from_eia(year)\n",
        "if gas_price is not None:\n",
        "    print(f\"The gas price in {year} was: ${gas_price}\")\n",
        "\n"
      ]
    }
  ]
}